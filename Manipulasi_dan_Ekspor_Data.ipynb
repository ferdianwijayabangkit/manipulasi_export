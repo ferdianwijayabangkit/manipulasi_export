{
 "cells": [
  {
   "cell_type": "markdown",
   "id": "596794ff",
   "metadata": {},
   "source": [
    "# Studi Kasus Data Iris : Manipulasi dan Ekspor Data\n",
    "\n",
    "**Author:** Ferdian Bangkit Wijaya  \n",
    "**Date:** October 5, 2025\n",
    "\n",
    "Notebook ini merupakan implementasi Python dari analisis data Iris yang mencakup manipulasi data dan ekspor dalam berbagai format."
   ]
  },
  {
   "cell_type": "markdown",
   "id": "4f75ed40",
   "metadata": {},
   "source": [
    "## Langkah 0: Persiapan - Memuat Library\n",
    "\n",
    "Pertama, kita muat library yang diperlukan seperti pandas, numpy, dan library lainnya untuk manipulasi data."
   ]
  },
  {
   "cell_type": "code",
   "execution_count": 1,
   "id": "47ad4787",
   "metadata": {},
   "outputs": [
    {
     "name": "stdout",
     "output_type": "stream",
     "text": [
      "Library berhasil dimuat!\n",
      "Pandas version: 2.3.1\n",
      "NumPy version: 2.3.1\n"
     ]
    }
   ],
   "source": [
    "# Import library yang diperlukan\n",
    "import pandas as pd\n",
    "import numpy as np\n",
    "from sklearn.datasets import load_iris\n",
    "import warnings\n",
    "\n",
    "# Suppress warnings untuk output yang lebih bersih\n",
    "warnings.filterwarnings('ignore')\n",
    "\n",
    "print(\"Library berhasil dimuat!\")\n",
    "print(f\"Pandas version: {pd.__version__}\")\n",
    "print(f\"NumPy version: {np.__version__}\")"
   ]
  },
  {
   "cell_type": "markdown",
   "id": "19b42c7c",
   "metadata": {},
   "source": [
    "## Langkah 1: Memuat & Inspeksi Data Awal\n",
    "\n",
    "Kita akan menggunakan dataset iris dari scikit-learn yang sama dengan dataset iris di R."
   ]
  },
  {
   "cell_type": "code",
   "execution_count": 2,
   "id": "364cf1c4",
   "metadata": {},
   "outputs": [
    {
     "name": "stdout",
     "output_type": "stream",
     "text": [
      "Head dari dataset:\n"
     ]
    },
    {
     "data": {
      "application/vnd.microsoft.datawrangler.viewer.v0+json": {
       "columns": [
        {
         "name": "index",
         "rawType": "int64",
         "type": "integer"
        },
        {
         "name": "Sepal.Length",
         "rawType": "float64",
         "type": "float"
        },
        {
         "name": "Sepal.Width",
         "rawType": "float64",
         "type": "float"
        },
        {
         "name": "Petal.Length",
         "rawType": "float64",
         "type": "float"
        },
        {
         "name": "Petal.Width",
         "rawType": "float64",
         "type": "float"
        },
        {
         "name": "Species",
         "rawType": "object",
         "type": "string"
        }
       ],
       "ref": "b795aa28-3161-47f0-b926-d0a6715ca786",
       "rows": [
        [
         "0",
         "5.1",
         "3.5",
         "1.4",
         "0.2",
         "setosa"
        ],
        [
         "1",
         "4.9",
         "3.0",
         "1.4",
         "0.2",
         "setosa"
        ],
        [
         "2",
         "4.7",
         "3.2",
         "1.3",
         "0.2",
         "setosa"
        ],
        [
         "3",
         "4.6",
         "3.1",
         "1.5",
         "0.2",
         "setosa"
        ],
        [
         "4",
         "5.0",
         "3.6",
         "1.4",
         "0.2",
         "setosa"
        ]
       ],
       "shape": {
        "columns": 5,
        "rows": 5
       }
      },
      "text/html": [
       "<div>\n",
       "<style scoped>\n",
       "    .dataframe tbody tr th:only-of-type {\n",
       "        vertical-align: middle;\n",
       "    }\n",
       "\n",
       "    .dataframe tbody tr th {\n",
       "        vertical-align: top;\n",
       "    }\n",
       "\n",
       "    .dataframe thead th {\n",
       "        text-align: right;\n",
       "    }\n",
       "</style>\n",
       "<table border=\"1\" class=\"dataframe\">\n",
       "  <thead>\n",
       "    <tr style=\"text-align: right;\">\n",
       "      <th></th>\n",
       "      <th>Sepal.Length</th>\n",
       "      <th>Sepal.Width</th>\n",
       "      <th>Petal.Length</th>\n",
       "      <th>Petal.Width</th>\n",
       "      <th>Species</th>\n",
       "    </tr>\n",
       "  </thead>\n",
       "  <tbody>\n",
       "    <tr>\n",
       "      <th>0</th>\n",
       "      <td>5.1</td>\n",
       "      <td>3.5</td>\n",
       "      <td>1.4</td>\n",
       "      <td>0.2</td>\n",
       "      <td>setosa</td>\n",
       "    </tr>\n",
       "    <tr>\n",
       "      <th>1</th>\n",
       "      <td>4.9</td>\n",
       "      <td>3.0</td>\n",
       "      <td>1.4</td>\n",
       "      <td>0.2</td>\n",
       "      <td>setosa</td>\n",
       "    </tr>\n",
       "    <tr>\n",
       "      <th>2</th>\n",
       "      <td>4.7</td>\n",
       "      <td>3.2</td>\n",
       "      <td>1.3</td>\n",
       "      <td>0.2</td>\n",
       "      <td>setosa</td>\n",
       "    </tr>\n",
       "    <tr>\n",
       "      <th>3</th>\n",
       "      <td>4.6</td>\n",
       "      <td>3.1</td>\n",
       "      <td>1.5</td>\n",
       "      <td>0.2</td>\n",
       "      <td>setosa</td>\n",
       "    </tr>\n",
       "    <tr>\n",
       "      <th>4</th>\n",
       "      <td>5.0</td>\n",
       "      <td>3.6</td>\n",
       "      <td>1.4</td>\n",
       "      <td>0.2</td>\n",
       "      <td>setosa</td>\n",
       "    </tr>\n",
       "  </tbody>\n",
       "</table>\n",
       "</div>"
      ],
      "text/plain": [
       "   Sepal.Length  Sepal.Width  Petal.Length  Petal.Width Species\n",
       "0           5.1          3.5           1.4          0.2  setosa\n",
       "1           4.9          3.0           1.4          0.2  setosa\n",
       "2           4.7          3.2           1.3          0.2  setosa\n",
       "3           4.6          3.1           1.5          0.2  setosa\n",
       "4           5.0          3.6           1.4          0.2  setosa"
      ]
     },
     "metadata": {},
     "output_type": "display_data"
    },
    {
     "name": "stdout",
     "output_type": "stream",
     "text": [
      "\n",
      "Informasi dataset:\n",
      "<class 'pandas.core.frame.DataFrame'>\n",
      "RangeIndex: 150 entries, 0 to 149\n",
      "Data columns (total 5 columns):\n",
      " #   Column        Non-Null Count  Dtype  \n",
      "---  ------        --------------  -----  \n",
      " 0   Sepal.Length  150 non-null    float64\n",
      " 1   Sepal.Width   150 non-null    float64\n",
      " 2   Petal.Length  150 non-null    float64\n",
      " 3   Petal.Width   150 non-null    float64\n",
      " 4   Species       150 non-null    object \n",
      "dtypes: float64(4), object(1)\n",
      "memory usage: 6.0+ KB\n",
      "None\n",
      "\n",
      "Deskripsi statistik:\n"
     ]
    },
    {
     "data": {
      "application/vnd.microsoft.datawrangler.viewer.v0+json": {
       "columns": [
        {
         "name": "index",
         "rawType": "object",
         "type": "string"
        },
        {
         "name": "Sepal.Length",
         "rawType": "float64",
         "type": "float"
        },
        {
         "name": "Sepal.Width",
         "rawType": "float64",
         "type": "float"
        },
        {
         "name": "Petal.Length",
         "rawType": "float64",
         "type": "float"
        },
        {
         "name": "Petal.Width",
         "rawType": "float64",
         "type": "float"
        }
       ],
       "ref": "6f5017b7-9b4e-4b66-8cd7-0e61d9276c05",
       "rows": [
        [
         "count",
         "150.0",
         "150.0",
         "150.0",
         "150.0"
        ],
        [
         "mean",
         "5.843333333333334",
         "3.0573333333333337",
         "3.7580000000000005",
         "1.1993333333333336"
        ],
        [
         "std",
         "0.828066127977863",
         "0.4358662849366982",
         "1.7652982332594662",
         "0.7622376689603465"
        ],
        [
         "min",
         "4.3",
         "2.0",
         "1.0",
         "0.1"
        ],
        [
         "25%",
         "5.1",
         "2.8",
         "1.6",
         "0.3"
        ],
        [
         "50%",
         "5.8",
         "3.0",
         "4.35",
         "1.3"
        ],
        [
         "75%",
         "6.4",
         "3.3",
         "5.1",
         "1.8"
        ],
        [
         "max",
         "7.9",
         "4.4",
         "6.9",
         "2.5"
        ]
       ],
       "shape": {
        "columns": 4,
        "rows": 8
       }
      },
      "text/html": [
       "<div>\n",
       "<style scoped>\n",
       "    .dataframe tbody tr th:only-of-type {\n",
       "        vertical-align: middle;\n",
       "    }\n",
       "\n",
       "    .dataframe tbody tr th {\n",
       "        vertical-align: top;\n",
       "    }\n",
       "\n",
       "    .dataframe thead th {\n",
       "        text-align: right;\n",
       "    }\n",
       "</style>\n",
       "<table border=\"1\" class=\"dataframe\">\n",
       "  <thead>\n",
       "    <tr style=\"text-align: right;\">\n",
       "      <th></th>\n",
       "      <th>Sepal.Length</th>\n",
       "      <th>Sepal.Width</th>\n",
       "      <th>Petal.Length</th>\n",
       "      <th>Petal.Width</th>\n",
       "    </tr>\n",
       "  </thead>\n",
       "  <tbody>\n",
       "    <tr>\n",
       "      <th>count</th>\n",
       "      <td>150.000000</td>\n",
       "      <td>150.000000</td>\n",
       "      <td>150.000000</td>\n",
       "      <td>150.000000</td>\n",
       "    </tr>\n",
       "    <tr>\n",
       "      <th>mean</th>\n",
       "      <td>5.843333</td>\n",
       "      <td>3.057333</td>\n",
       "      <td>3.758000</td>\n",
       "      <td>1.199333</td>\n",
       "    </tr>\n",
       "    <tr>\n",
       "      <th>std</th>\n",
       "      <td>0.828066</td>\n",
       "      <td>0.435866</td>\n",
       "      <td>1.765298</td>\n",
       "      <td>0.762238</td>\n",
       "    </tr>\n",
       "    <tr>\n",
       "      <th>min</th>\n",
       "      <td>4.300000</td>\n",
       "      <td>2.000000</td>\n",
       "      <td>1.000000</td>\n",
       "      <td>0.100000</td>\n",
       "    </tr>\n",
       "    <tr>\n",
       "      <th>25%</th>\n",
       "      <td>5.100000</td>\n",
       "      <td>2.800000</td>\n",
       "      <td>1.600000</td>\n",
       "      <td>0.300000</td>\n",
       "    </tr>\n",
       "    <tr>\n",
       "      <th>50%</th>\n",
       "      <td>5.800000</td>\n",
       "      <td>3.000000</td>\n",
       "      <td>4.350000</td>\n",
       "      <td>1.300000</td>\n",
       "    </tr>\n",
       "    <tr>\n",
       "      <th>75%</th>\n",
       "      <td>6.400000</td>\n",
       "      <td>3.300000</td>\n",
       "      <td>5.100000</td>\n",
       "      <td>1.800000</td>\n",
       "    </tr>\n",
       "    <tr>\n",
       "      <th>max</th>\n",
       "      <td>7.900000</td>\n",
       "      <td>4.400000</td>\n",
       "      <td>6.900000</td>\n",
       "      <td>2.500000</td>\n",
       "    </tr>\n",
       "  </tbody>\n",
       "</table>\n",
       "</div>"
      ],
      "text/plain": [
       "       Sepal.Length  Sepal.Width  Petal.Length  Petal.Width\n",
       "count    150.000000   150.000000    150.000000   150.000000\n",
       "mean       5.843333     3.057333      3.758000     1.199333\n",
       "std        0.828066     0.435866      1.765298     0.762238\n",
       "min        4.300000     2.000000      1.000000     0.100000\n",
       "25%        5.100000     2.800000      1.600000     0.300000\n",
       "50%        5.800000     3.000000      4.350000     1.300000\n",
       "75%        6.400000     3.300000      5.100000     1.800000\n",
       "max        7.900000     4.400000      6.900000     2.500000"
      ]
     },
     "metadata": {},
     "output_type": "display_data"
    }
   ],
   "source": [
    "# Load dataset iris\n",
    "iris_data = load_iris()\n",
    "\n",
    "# Buat DataFrame dengan nama kolom yang sesuai\n",
    "iris_df = pd.DataFrame(iris_data.data, columns=iris_data.feature_names)\n",
    "iris_df['Species'] = iris_data.target_names[iris_data.target]\n",
    "\n",
    "# Rename kolom untuk konsistensi dengan versi R\n",
    "iris_df.columns = ['Sepal.Length', 'Sepal.Width', 'Petal.Length', 'Petal.Width', 'Species']\n",
    "\n",
    "# Tampilkan head dan info dari DataFrame\n",
    "print(\"Head dari dataset:\")\n",
    "display(iris_df.head())\n",
    "\n",
    "print(\"\\nInformasi dataset:\")\n",
    "print(iris_df.info())\n",
    "\n",
    "print(\"\\nDeskripsi statistik:\")\n",
    "display(iris_df.describe())"
   ]
  },
  {
   "cell_type": "markdown",
   "id": "13ee1700",
   "metadata": {},
   "source": [
    "## 1. Membuat Variabel Turunan (Derived Variables)\n",
    "\n",
    "**Tugas:** Membuat kolom Petal.Area dari perkalian Petal.Length dan Petal.Width."
   ]
  },
  {
   "cell_type": "code",
   "execution_count": 3,
   "id": "015c65d1",
   "metadata": {},
   "outputs": [
    {
     "name": "stdout",
     "output_type": "stream",
     "text": [
      "Kolom-kolom terkait Petal Area:\n"
     ]
    },
    {
     "data": {
      "application/vnd.microsoft.datawrangler.viewer.v0+json": {
       "columns": [
        {
         "name": "index",
         "rawType": "int64",
         "type": "integer"
        },
        {
         "name": "Petal.Length",
         "rawType": "float64",
         "type": "float"
        },
        {
         "name": "Petal.Width",
         "rawType": "float64",
         "type": "float"
        },
        {
         "name": "Petal.Area",
         "rawType": "float64",
         "type": "float"
        }
       ],
       "ref": "de559f48-fc2f-4b89-ae05-ae047f2e5930",
       "rows": [
        [
         "0",
         "1.4",
         "0.2",
         "0.27999999999999997"
        ],
        [
         "1",
         "1.4",
         "0.2",
         "0.27999999999999997"
        ],
        [
         "2",
         "1.3",
         "0.2",
         "0.26"
        ],
        [
         "3",
         "1.5",
         "0.2",
         "0.30000000000000004"
        ],
        [
         "4",
         "1.4",
         "0.2",
         "0.27999999999999997"
        ]
       ],
       "shape": {
        "columns": 3,
        "rows": 5
       }
      },
      "text/html": [
       "<div>\n",
       "<style scoped>\n",
       "    .dataframe tbody tr th:only-of-type {\n",
       "        vertical-align: middle;\n",
       "    }\n",
       "\n",
       "    .dataframe tbody tr th {\n",
       "        vertical-align: top;\n",
       "    }\n",
       "\n",
       "    .dataframe thead th {\n",
       "        text-align: right;\n",
       "    }\n",
       "</style>\n",
       "<table border=\"1\" class=\"dataframe\">\n",
       "  <thead>\n",
       "    <tr style=\"text-align: right;\">\n",
       "      <th></th>\n",
       "      <th>Petal.Length</th>\n",
       "      <th>Petal.Width</th>\n",
       "      <th>Petal.Area</th>\n",
       "    </tr>\n",
       "  </thead>\n",
       "  <tbody>\n",
       "    <tr>\n",
       "      <th>0</th>\n",
       "      <td>1.4</td>\n",
       "      <td>0.2</td>\n",
       "      <td>0.28</td>\n",
       "    </tr>\n",
       "    <tr>\n",
       "      <th>1</th>\n",
       "      <td>1.4</td>\n",
       "      <td>0.2</td>\n",
       "      <td>0.28</td>\n",
       "    </tr>\n",
       "    <tr>\n",
       "      <th>2</th>\n",
       "      <td>1.3</td>\n",
       "      <td>0.2</td>\n",
       "      <td>0.26</td>\n",
       "    </tr>\n",
       "    <tr>\n",
       "      <th>3</th>\n",
       "      <td>1.5</td>\n",
       "      <td>0.2</td>\n",
       "      <td>0.30</td>\n",
       "    </tr>\n",
       "    <tr>\n",
       "      <th>4</th>\n",
       "      <td>1.4</td>\n",
       "      <td>0.2</td>\n",
       "      <td>0.28</td>\n",
       "    </tr>\n",
       "  </tbody>\n",
       "</table>\n",
       "</div>"
      ],
      "text/plain": [
       "   Petal.Length  Petal.Width  Petal.Area\n",
       "0           1.4          0.2        0.28\n",
       "1           1.4          0.2        0.28\n",
       "2           1.3          0.2        0.26\n",
       "3           1.5          0.2        0.30\n",
       "4           1.4          0.2        0.28"
      ]
     },
     "metadata": {},
     "output_type": "display_data"
    }
   ],
   "source": [
    "# Membuat kolom Petal.Area\n",
    "iris_df['Petal.Area'] = iris_df['Petal.Length'] * iris_df['Petal.Width']\n",
    "\n",
    "# Verifikasi dengan menampilkan kolom-kolom terkait\n",
    "print(\"Kolom-kolom terkait Petal Area:\")\n",
    "display(iris_df[['Petal.Length', 'Petal.Width', 'Petal.Area']].head())"
   ]
  },
  {
   "cell_type": "markdown",
   "id": "8b29cdb5",
   "metadata": {},
   "source": [
    "## 2. Mengubah Nama Variabel (Rename)\n",
    "\n",
    "**Tugas:** Mengubah nama kolom agar lebih konsisten (misal: Petal.Length menjadi Panjang_Petal)."
   ]
  },
  {
   "cell_type": "code",
   "execution_count": 4,
   "id": "f37829e3",
   "metadata": {},
   "outputs": [
    {
     "name": "stdout",
     "output_type": "stream",
     "text": [
      "Nama kolom setelah rename:\n",
      "['Panjang_Sepal', 'Lebar_Sepal', 'Panjang_Petal', 'Lebar_Petal', 'Species', 'Petal.Area']\n",
      "\n",
      "Head dari DataFrame dengan nama kolom baru:\n"
     ]
    },
    {
     "data": {
      "application/vnd.microsoft.datawrangler.viewer.v0+json": {
       "columns": [
        {
         "name": "index",
         "rawType": "int64",
         "type": "integer"
        },
        {
         "name": "Panjang_Sepal",
         "rawType": "float64",
         "type": "float"
        },
        {
         "name": "Lebar_Sepal",
         "rawType": "float64",
         "type": "float"
        },
        {
         "name": "Panjang_Petal",
         "rawType": "float64",
         "type": "float"
        },
        {
         "name": "Lebar_Petal",
         "rawType": "float64",
         "type": "float"
        },
        {
         "name": "Species",
         "rawType": "object",
         "type": "string"
        },
        {
         "name": "Petal.Area",
         "rawType": "float64",
         "type": "float"
        }
       ],
       "ref": "c6433fff-079b-49e3-b7c6-3c7cdf5f5adf",
       "rows": [
        [
         "0",
         "5.1",
         "3.5",
         "1.4",
         "0.2",
         "setosa",
         "0.27999999999999997"
        ],
        [
         "1",
         "4.9",
         "3.0",
         "1.4",
         "0.2",
         "setosa",
         "0.27999999999999997"
        ],
        [
         "2",
         "4.7",
         "3.2",
         "1.3",
         "0.2",
         "setosa",
         "0.26"
        ],
        [
         "3",
         "4.6",
         "3.1",
         "1.5",
         "0.2",
         "setosa",
         "0.30000000000000004"
        ],
        [
         "4",
         "5.0",
         "3.6",
         "1.4",
         "0.2",
         "setosa",
         "0.27999999999999997"
        ]
       ],
       "shape": {
        "columns": 6,
        "rows": 5
       }
      },
      "text/html": [
       "<div>\n",
       "<style scoped>\n",
       "    .dataframe tbody tr th:only-of-type {\n",
       "        vertical-align: middle;\n",
       "    }\n",
       "\n",
       "    .dataframe tbody tr th {\n",
       "        vertical-align: top;\n",
       "    }\n",
       "\n",
       "    .dataframe thead th {\n",
       "        text-align: right;\n",
       "    }\n",
       "</style>\n",
       "<table border=\"1\" class=\"dataframe\">\n",
       "  <thead>\n",
       "    <tr style=\"text-align: right;\">\n",
       "      <th></th>\n",
       "      <th>Panjang_Sepal</th>\n",
       "      <th>Lebar_Sepal</th>\n",
       "      <th>Panjang_Petal</th>\n",
       "      <th>Lebar_Petal</th>\n",
       "      <th>Species</th>\n",
       "      <th>Petal.Area</th>\n",
       "    </tr>\n",
       "  </thead>\n",
       "  <tbody>\n",
       "    <tr>\n",
       "      <th>0</th>\n",
       "      <td>5.1</td>\n",
       "      <td>3.5</td>\n",
       "      <td>1.4</td>\n",
       "      <td>0.2</td>\n",
       "      <td>setosa</td>\n",
       "      <td>0.28</td>\n",
       "    </tr>\n",
       "    <tr>\n",
       "      <th>1</th>\n",
       "      <td>4.9</td>\n",
       "      <td>3.0</td>\n",
       "      <td>1.4</td>\n",
       "      <td>0.2</td>\n",
       "      <td>setosa</td>\n",
       "      <td>0.28</td>\n",
       "    </tr>\n",
       "    <tr>\n",
       "      <th>2</th>\n",
       "      <td>4.7</td>\n",
       "      <td>3.2</td>\n",
       "      <td>1.3</td>\n",
       "      <td>0.2</td>\n",
       "      <td>setosa</td>\n",
       "      <td>0.26</td>\n",
       "    </tr>\n",
       "    <tr>\n",
       "      <th>3</th>\n",
       "      <td>4.6</td>\n",
       "      <td>3.1</td>\n",
       "      <td>1.5</td>\n",
       "      <td>0.2</td>\n",
       "      <td>setosa</td>\n",
       "      <td>0.30</td>\n",
       "    </tr>\n",
       "    <tr>\n",
       "      <th>4</th>\n",
       "      <td>5.0</td>\n",
       "      <td>3.6</td>\n",
       "      <td>1.4</td>\n",
       "      <td>0.2</td>\n",
       "      <td>setosa</td>\n",
       "      <td>0.28</td>\n",
       "    </tr>\n",
       "  </tbody>\n",
       "</table>\n",
       "</div>"
      ],
      "text/plain": [
       "   Panjang_Sepal  Lebar_Sepal  Panjang_Petal  Lebar_Petal Species  Petal.Area\n",
       "0            5.1          3.5            1.4          0.2  setosa        0.28\n",
       "1            4.9          3.0            1.4          0.2  setosa        0.28\n",
       "2            4.7          3.2            1.3          0.2  setosa        0.26\n",
       "3            4.6          3.1            1.5          0.2  setosa        0.30\n",
       "4            5.0          3.6            1.4          0.2  setosa        0.28"
      ]
     },
     "metadata": {},
     "output_type": "display_data"
    }
   ],
   "source": [
    "# Rename kolom-kolom\n",
    "iris_df = iris_df.rename(columns={\n",
    "    'Sepal.Length': 'Panjang_Sepal',\n",
    "    'Sepal.Width': 'Lebar_Sepal',\n",
    "    'Petal.Length': 'Panjang_Petal',\n",
    "    'Petal.Width': 'Lebar_Petal'\n",
    "})\n",
    "\n",
    "# Tampilkan nama kolom yang baru\n",
    "print(\"Nama kolom setelah rename:\")\n",
    "print(list(iris_df.columns))\n",
    "\n",
    "print(\"\\nHead dari DataFrame dengan nama kolom baru:\")\n",
    "display(iris_df.head())"
   ]
  },
  {
   "cell_type": "markdown",
   "id": "6eacb5da",
   "metadata": {},
   "source": [
    "## 3. Mengonversi Tipe Variabel\n",
    "\n",
    "**Tugas:** Mengubah tipe data kolom Panjang_Petal dari numerik menjadi string (object)."
   ]
  },
  {
   "cell_type": "code",
   "execution_count": 5,
   "id": "c0c0ae5e",
   "metadata": {},
   "outputs": [
    {
     "name": "stdout",
     "output_type": "stream",
     "text": [
      "Tipe data setelah konversi:\n",
      "Panjang_Sepal        float64\n",
      "Lebar_Sepal          float64\n",
      "Panjang_Petal        float64\n",
      "Lebar_Petal          float64\n",
      "Species               object\n",
      "Petal.Area           float64\n",
      "Panjang_Petal_Str     object\n",
      "dtype: object\n",
      "\n",
      "Contoh nilai dalam kolom Panjang_Petal_Str:\n",
      "   Panjang_Petal Panjang_Petal_Str\n",
      "0            1.4               1.4\n",
      "1            1.4               1.4\n",
      "2            1.3               1.3\n",
      "3            1.5               1.5\n",
      "4            1.4               1.4\n"
     ]
    }
   ],
   "source": [
    "# Konversi tipe data kolom Panjang_Petal menjadi string\n",
    "iris_df['Panjang_Petal_Str'] = iris_df['Panjang_Petal'].astype(str)\n",
    "\n",
    "# Cek kembali tipe data untuk melihat perubahan\n",
    "print(\"Tipe data setelah konversi:\")\n",
    "print(iris_df.dtypes)\n",
    "\n",
    "print(\"\\nContoh nilai dalam kolom Panjang_Petal_Str:\")\n",
    "print(iris_df[['Panjang_Petal', 'Panjang_Petal_Str']].head())"
   ]
  },
  {
   "cell_type": "markdown",
   "id": "b3746637",
   "metadata": {},
   "source": [
    "## 4. Recode Kategori\n",
    "\n",
    "**Tugas:** Menyingkat nama Species menjadi \"S\", \"VE\", dan \"VI\"."
   ]
  },
  {
   "cell_type": "code",
   "execution_count": 6,
   "id": "99c75b3e",
   "metadata": {},
   "outputs": [
    {
     "name": "stdout",
     "output_type": "stream",
     "text": [
      "Hasil recode Species:\n"
     ]
    },
    {
     "data": {
      "application/vnd.microsoft.datawrangler.viewer.v0+json": {
       "columns": [
        {
         "name": "index",
         "rawType": "int64",
         "type": "integer"
        },
        {
         "name": "Species",
         "rawType": "object",
         "type": "string"
        },
        {
         "name": "Species_Code",
         "rawType": "object",
         "type": "string"
        }
       ],
       "ref": "dbf26168-a273-4e01-b6b9-bb0b15791c6d",
       "rows": [
        [
         "0",
         "setosa",
         "S"
        ],
        [
         "1",
         "setosa",
         "S"
        ],
        [
         "2",
         "setosa",
         "S"
        ],
        [
         "3",
         "setosa",
         "S"
        ],
        [
         "4",
         "setosa",
         "S"
        ]
       ],
       "shape": {
        "columns": 2,
        "rows": 5
       }
      },
      "text/html": [
       "<div>\n",
       "<style scoped>\n",
       "    .dataframe tbody tr th:only-of-type {\n",
       "        vertical-align: middle;\n",
       "    }\n",
       "\n",
       "    .dataframe tbody tr th {\n",
       "        vertical-align: top;\n",
       "    }\n",
       "\n",
       "    .dataframe thead th {\n",
       "        text-align: right;\n",
       "    }\n",
       "</style>\n",
       "<table border=\"1\" class=\"dataframe\">\n",
       "  <thead>\n",
       "    <tr style=\"text-align: right;\">\n",
       "      <th></th>\n",
       "      <th>Species</th>\n",
       "      <th>Species_Code</th>\n",
       "    </tr>\n",
       "  </thead>\n",
       "  <tbody>\n",
       "    <tr>\n",
       "      <th>0</th>\n",
       "      <td>setosa</td>\n",
       "      <td>S</td>\n",
       "    </tr>\n",
       "    <tr>\n",
       "      <th>1</th>\n",
       "      <td>setosa</td>\n",
       "      <td>S</td>\n",
       "    </tr>\n",
       "    <tr>\n",
       "      <th>2</th>\n",
       "      <td>setosa</td>\n",
       "      <td>S</td>\n",
       "    </tr>\n",
       "    <tr>\n",
       "      <th>3</th>\n",
       "      <td>setosa</td>\n",
       "      <td>S</td>\n",
       "    </tr>\n",
       "    <tr>\n",
       "      <th>4</th>\n",
       "      <td>setosa</td>\n",
       "      <td>S</td>\n",
       "    </tr>\n",
       "  </tbody>\n",
       "</table>\n",
       "</div>"
      ],
      "text/plain": [
       "  Species Species_Code\n",
       "0  setosa            S\n",
       "1  setosa            S\n",
       "2  setosa            S\n",
       "3  setosa            S\n",
       "4  setosa            S"
      ]
     },
     "metadata": {},
     "output_type": "display_data"
    },
    {
     "name": "stdout",
     "output_type": "stream",
     "text": [
      "\n",
      "Value counts untuk Species_Code:\n",
      "Species_Code\n",
      "S     50\n",
      "VE    50\n",
      "VI    50\n",
      "Name: count, dtype: int64\n"
     ]
    }
   ],
   "source": [
    "# Recode kategori Species\n",
    "species_mapping = {\n",
    "    'setosa': 'S',\n",
    "    'versicolor': 'VE', \n",
    "    'virginica': 'VI'\n",
    "}\n",
    "\n",
    "iris_df['Species_Code'] = iris_df['Species'].map(species_mapping)\n",
    "\n",
    "# Tampilkan hasil recode\n",
    "print(\"Hasil recode Species:\")\n",
    "display(iris_df[['Species', 'Species_Code']].head())\n",
    "\n",
    "# Verifikasi semua kategori sudah ter-recode\n",
    "print(\"\\nValue counts untuk Species_Code:\")\n",
    "print(iris_df['Species_Code'].value_counts())"
   ]
  },
  {
   "cell_type": "markdown",
   "id": "d0517356",
   "metadata": {},
   "source": [
    "## 5. Membuat Variabel Logika\n",
    "\n",
    "**Tugas:** Membuat kolom Is_Panjang (True/False) jika Panjang_Petal > 5."
   ]
  },
  {
   "cell_type": "code",
   "execution_count": 7,
   "id": "6f35214d",
   "metadata": {},
   "outputs": [
    {
     "name": "stdout",
     "output_type": "stream",
     "text": [
      "Contoh hasil variabel logika:\n"
     ]
    },
    {
     "data": {
      "application/vnd.microsoft.datawrangler.viewer.v0+json": {
       "columns": [
        {
         "name": "index",
         "rawType": "int64",
         "type": "integer"
        },
        {
         "name": "Panjang_Petal",
         "rawType": "float64",
         "type": "float"
        },
        {
         "name": "Is_Panjang",
         "rawType": "bool",
         "type": "boolean"
        }
       ],
       "ref": "855b779a-9188-4b83-b495-062db79f0226",
       "rows": [
        [
         "49",
         "1.4",
         "False"
        ],
        [
         "100",
         "6.0",
         "True"
        ],
        [
         "105",
         "6.6",
         "True"
        ]
       ],
       "shape": {
        "columns": 2,
        "rows": 3
       }
      },
      "text/html": [
       "<div>\n",
       "<style scoped>\n",
       "    .dataframe tbody tr th:only-of-type {\n",
       "        vertical-align: middle;\n",
       "    }\n",
       "\n",
       "    .dataframe tbody tr th {\n",
       "        vertical-align: top;\n",
       "    }\n",
       "\n",
       "    .dataframe thead th {\n",
       "        text-align: right;\n",
       "    }\n",
       "</style>\n",
       "<table border=\"1\" class=\"dataframe\">\n",
       "  <thead>\n",
       "    <tr style=\"text-align: right;\">\n",
       "      <th></th>\n",
       "      <th>Panjang_Petal</th>\n",
       "      <th>Is_Panjang</th>\n",
       "    </tr>\n",
       "  </thead>\n",
       "  <tbody>\n",
       "    <tr>\n",
       "      <th>49</th>\n",
       "      <td>1.4</td>\n",
       "      <td>False</td>\n",
       "    </tr>\n",
       "    <tr>\n",
       "      <th>100</th>\n",
       "      <td>6.0</td>\n",
       "      <td>True</td>\n",
       "    </tr>\n",
       "    <tr>\n",
       "      <th>105</th>\n",
       "      <td>6.6</td>\n",
       "      <td>True</td>\n",
       "    </tr>\n",
       "  </tbody>\n",
       "</table>\n",
       "</div>"
      ],
      "text/plain": [
       "     Panjang_Petal  Is_Panjang\n",
       "49             1.4       False\n",
       "100            6.0        True\n",
       "105            6.6        True"
      ]
     },
     "metadata": {},
     "output_type": "display_data"
    },
    {
     "name": "stdout",
     "output_type": "stream",
     "text": [
      "\n",
      "Distribusi variabel Is_Panjang:\n",
      "Is_Panjang\n",
      "False    108\n",
      "True      42\n",
      "Name: count, dtype: int64\n"
     ]
    }
   ],
   "source": [
    "# Membuat variabel logika\n",
    "iris_df['Is_Panjang'] = iris_df['Panjang_Petal'] > 5\n",
    "\n",
    "# Tampilkan contoh hasil (mengambil beberapa baris spesifik untuk perbandingan)\n",
    "print(\"Contoh hasil variabel logika:\")\n",
    "sample_rows = [49, 100, 105]  # Equivalen dengan slice(c(50, 101, 106)) di R\n",
    "display(iris_df.loc[sample_rows, ['Panjang_Petal', 'Is_Panjang']])\n",
    "\n",
    "print(\"\\nDistribusi variabel Is_Panjang:\")\n",
    "print(iris_df['Is_Panjang'].value_counts())"
   ]
  },
  {
   "cell_type": "markdown",
   "id": "e14ba219",
   "metadata": {},
   "source": [
    "## 6. Operasi String\n",
    "\n",
    "**Tugas:** Mengubah nama Species menjadi huruf kapital semua."
   ]
  },
  {
   "cell_type": "code",
   "execution_count": 8,
   "id": "c8ea28e5",
   "metadata": {},
   "outputs": [
    {
     "name": "stdout",
     "output_type": "stream",
     "text": [
      "Hasil operasi string:\n"
     ]
    },
    {
     "data": {
      "application/vnd.microsoft.datawrangler.viewer.v0+json": {
       "columns": [
        {
         "name": "index",
         "rawType": "int64",
         "type": "integer"
        },
        {
         "name": "Species",
         "rawType": "object",
         "type": "string"
        },
        {
         "name": "Species_Upper",
         "rawType": "object",
         "type": "string"
        }
       ],
       "ref": "2b30147f-c7ea-4a1e-983d-184c704ad040",
       "rows": [
        [
         "0",
         "setosa",
         "SETOSA"
        ],
        [
         "1",
         "setosa",
         "SETOSA"
        ],
        [
         "2",
         "setosa",
         "SETOSA"
        ],
        [
         "3",
         "setosa",
         "SETOSA"
        ],
        [
         "4",
         "setosa",
         "SETOSA"
        ]
       ],
       "shape": {
        "columns": 2,
        "rows": 5
       }
      },
      "text/html": [
       "<div>\n",
       "<style scoped>\n",
       "    .dataframe tbody tr th:only-of-type {\n",
       "        vertical-align: middle;\n",
       "    }\n",
       "\n",
       "    .dataframe tbody tr th {\n",
       "        vertical-align: top;\n",
       "    }\n",
       "\n",
       "    .dataframe thead th {\n",
       "        text-align: right;\n",
       "    }\n",
       "</style>\n",
       "<table border=\"1\" class=\"dataframe\">\n",
       "  <thead>\n",
       "    <tr style=\"text-align: right;\">\n",
       "      <th></th>\n",
       "      <th>Species</th>\n",
       "      <th>Species_Upper</th>\n",
       "    </tr>\n",
       "  </thead>\n",
       "  <tbody>\n",
       "    <tr>\n",
       "      <th>0</th>\n",
       "      <td>setosa</td>\n",
       "      <td>SETOSA</td>\n",
       "    </tr>\n",
       "    <tr>\n",
       "      <th>1</th>\n",
       "      <td>setosa</td>\n",
       "      <td>SETOSA</td>\n",
       "    </tr>\n",
       "    <tr>\n",
       "      <th>2</th>\n",
       "      <td>setosa</td>\n",
       "      <td>SETOSA</td>\n",
       "    </tr>\n",
       "    <tr>\n",
       "      <th>3</th>\n",
       "      <td>setosa</td>\n",
       "      <td>SETOSA</td>\n",
       "    </tr>\n",
       "    <tr>\n",
       "      <th>4</th>\n",
       "      <td>setosa</td>\n",
       "      <td>SETOSA</td>\n",
       "    </tr>\n",
       "  </tbody>\n",
       "</table>\n",
       "</div>"
      ],
      "text/plain": [
       "  Species Species_Upper\n",
       "0  setosa        SETOSA\n",
       "1  setosa        SETOSA\n",
       "2  setosa        SETOSA\n",
       "3  setosa        SETOSA\n",
       "4  setosa        SETOSA"
      ]
     },
     "metadata": {},
     "output_type": "display_data"
    },
    {
     "name": "stdout",
     "output_type": "stream",
     "text": [
      "\n",
      "Unique values dalam Species_Upper:\n",
      "['SETOSA' 'VERSICOLOR' 'VIRGINICA']\n"
     ]
    }
   ],
   "source": [
    "# Operasi string - mengubah ke huruf kapital\n",
    "iris_df['Species_Upper'] = iris_df['Species'].str.upper()\n",
    "\n",
    "# Tampilkan hasil operasi string\n",
    "print(\"Hasil operasi string:\")\n",
    "display(iris_df[['Species', 'Species_Upper']].head())\n",
    "\n",
    "print(\"\\nUnique values dalam Species_Upper:\")\n",
    "print(iris_df['Species_Upper'].unique())"
   ]
  },
  {
   "cell_type": "markdown",
   "id": "20f65b43",
   "metadata": {},
   "source": [
    "## 7. Identifikasi Duplikat\n",
    "\n",
    "**Tugas:** Menemukan dan menghitung baris yang identik dalam dataset."
   ]
  },
  {
   "cell_type": "code",
   "execution_count": 9,
   "id": "64aabc7d",
   "metadata": {},
   "outputs": [
    {
     "name": "stdout",
     "output_type": "stream",
     "text": [
      "Jumlah baris duplikat yang ditemukan: 1\n",
      "\n",
      "Baris-baris yang terduplikasi:\n"
     ]
    },
    {
     "data": {
      "application/vnd.microsoft.datawrangler.viewer.v0+json": {
       "columns": [
        {
         "name": "index",
         "rawType": "int64",
         "type": "integer"
        },
        {
         "name": "Panjang_Sepal",
         "rawType": "float64",
         "type": "float"
        },
        {
         "name": "Lebar_Sepal",
         "rawType": "float64",
         "type": "float"
        },
        {
         "name": "Panjang_Petal",
         "rawType": "float64",
         "type": "float"
        },
        {
         "name": "Lebar_Petal",
         "rawType": "float64",
         "type": "float"
        },
        {
         "name": "Species",
         "rawType": "object",
         "type": "string"
        },
        {
         "name": "Petal.Area",
         "rawType": "float64",
         "type": "float"
        },
        {
         "name": "Panjang_Petal_Str",
         "rawType": "object",
         "type": "string"
        },
        {
         "name": "Species_Code",
         "rawType": "object",
         "type": "string"
        },
        {
         "name": "Is_Panjang",
         "rawType": "bool",
         "type": "boolean"
        },
        {
         "name": "Species_Upper",
         "rawType": "object",
         "type": "string"
        }
       ],
       "ref": "4f1b4987-9ce0-4465-af81-6f9a2c5deb44",
       "rows": [
        [
         "101",
         "5.8",
         "2.7",
         "5.1",
         "1.9",
         "virginica",
         "9.69",
         "5.1",
         "VI",
         "True",
         "VIRGINICA"
        ],
        [
         "142",
         "5.8",
         "2.7",
         "5.1",
         "1.9",
         "virginica",
         "9.69",
         "5.1",
         "VI",
         "True",
         "VIRGINICA"
        ]
       ],
       "shape": {
        "columns": 10,
        "rows": 2
       }
      },
      "text/html": [
       "<div>\n",
       "<style scoped>\n",
       "    .dataframe tbody tr th:only-of-type {\n",
       "        vertical-align: middle;\n",
       "    }\n",
       "\n",
       "    .dataframe tbody tr th {\n",
       "        vertical-align: top;\n",
       "    }\n",
       "\n",
       "    .dataframe thead th {\n",
       "        text-align: right;\n",
       "    }\n",
       "</style>\n",
       "<table border=\"1\" class=\"dataframe\">\n",
       "  <thead>\n",
       "    <tr style=\"text-align: right;\">\n",
       "      <th></th>\n",
       "      <th>Panjang_Sepal</th>\n",
       "      <th>Lebar_Sepal</th>\n",
       "      <th>Panjang_Petal</th>\n",
       "      <th>Lebar_Petal</th>\n",
       "      <th>Species</th>\n",
       "      <th>Petal.Area</th>\n",
       "      <th>Panjang_Petal_Str</th>\n",
       "      <th>Species_Code</th>\n",
       "      <th>Is_Panjang</th>\n",
       "      <th>Species_Upper</th>\n",
       "    </tr>\n",
       "  </thead>\n",
       "  <tbody>\n",
       "    <tr>\n",
       "      <th>101</th>\n",
       "      <td>5.8</td>\n",
       "      <td>2.7</td>\n",
       "      <td>5.1</td>\n",
       "      <td>1.9</td>\n",
       "      <td>virginica</td>\n",
       "      <td>9.69</td>\n",
       "      <td>5.1</td>\n",
       "      <td>VI</td>\n",
       "      <td>True</td>\n",
       "      <td>VIRGINICA</td>\n",
       "    </tr>\n",
       "    <tr>\n",
       "      <th>142</th>\n",
       "      <td>5.8</td>\n",
       "      <td>2.7</td>\n",
       "      <td>5.1</td>\n",
       "      <td>1.9</td>\n",
       "      <td>virginica</td>\n",
       "      <td>9.69</td>\n",
       "      <td>5.1</td>\n",
       "      <td>VI</td>\n",
       "      <td>True</td>\n",
       "      <td>VIRGINICA</td>\n",
       "    </tr>\n",
       "  </tbody>\n",
       "</table>\n",
       "</div>"
      ],
      "text/plain": [
       "     Panjang_Sepal  Lebar_Sepal  Panjang_Petal  Lebar_Petal    Species  \\\n",
       "101            5.8          2.7            5.1          1.9  virginica   \n",
       "142            5.8          2.7            5.1          1.9  virginica   \n",
       "\n",
       "     Petal.Area Panjang_Petal_Str Species_Code  Is_Panjang Species_Upper  \n",
       "101        9.69               5.1           VI        True     VIRGINICA  \n",
       "142        9.69               5.1           VI        True     VIRGINICA  "
      ]
     },
     "metadata": {},
     "output_type": "display_data"
    }
   ],
   "source": [
    "# Identifikasi duplikat\n",
    "jumlah_duplikat = iris_df.duplicated().sum()\n",
    "\n",
    "print(f\"Jumlah baris duplikat yang ditemukan: {jumlah_duplikat}\")\n",
    "\n",
    "# Filter baris yang terduplikasi (baik duplikat pertama maupun yang lain)\n",
    "semua_baris_terlibat = iris_df[iris_df.duplicated(keep=False)]\n",
    "\n",
    "if len(semua_baris_terlibat) > 0:\n",
    "    # Urutkan agar mudah dibandingkan\n",
    "    semua_baris_terlibat = semua_baris_terlibat.sort_values(['Panjang_Petal', 'Lebar_Petal'])\n",
    "    \n",
    "    print(\"\\nBaris-baris yang terduplikasi:\")\n",
    "    display(semua_baris_terlibat)\n",
    "else:\n",
    "    print(\"\\nTidak ada baris yang terduplikasi dalam dataset.\")"
   ]
  },
  {
   "cell_type": "markdown",
   "id": "c1638b4f",
   "metadata": {},
   "source": [
    "## 8. Subsetting & Sorting\n",
    "\n",
    "**Tugas:** Memilih (filter) bunga versicolor, memilih (select) kolom Species dan Panjang_Petal, lalu mengurutkan (arrange) dari yang terpanjang."
   ]
  },
  {
   "cell_type": "code",
   "execution_count": 10,
   "id": "dfd5ca75",
   "metadata": {},
   "outputs": [
    {
     "name": "stdout",
     "output_type": "stream",
     "text": [
      "Hasil subsetting dan sorting (versicolor, diurutkan berdasarkan Panjang_Petal):\n"
     ]
    },
    {
     "data": {
      "application/vnd.microsoft.datawrangler.viewer.v0+json": {
       "columns": [
        {
         "name": "index",
         "rawType": "int64",
         "type": "integer"
        },
        {
         "name": "Species",
         "rawType": "object",
         "type": "string"
        },
        {
         "name": "Panjang_Petal",
         "rawType": "float64",
         "type": "float"
        }
       ],
       "ref": "9443d2bc-be11-4235-a010-9f024b66d779",
       "rows": [
        [
         "0",
         "versicolor",
         "5.1"
        ],
        [
         "1",
         "versicolor",
         "5.0"
        ],
        [
         "2",
         "versicolor",
         "4.9"
        ],
        [
         "3",
         "versicolor",
         "4.9"
        ],
        [
         "4",
         "versicolor",
         "4.8"
        ]
       ],
       "shape": {
        "columns": 2,
        "rows": 5
       }
      },
      "text/html": [
       "<div>\n",
       "<style scoped>\n",
       "    .dataframe tbody tr th:only-of-type {\n",
       "        vertical-align: middle;\n",
       "    }\n",
       "\n",
       "    .dataframe tbody tr th {\n",
       "        vertical-align: top;\n",
       "    }\n",
       "\n",
       "    .dataframe thead th {\n",
       "        text-align: right;\n",
       "    }\n",
       "</style>\n",
       "<table border=\"1\" class=\"dataframe\">\n",
       "  <thead>\n",
       "    <tr style=\"text-align: right;\">\n",
       "      <th></th>\n",
       "      <th>Species</th>\n",
       "      <th>Panjang_Petal</th>\n",
       "    </tr>\n",
       "  </thead>\n",
       "  <tbody>\n",
       "    <tr>\n",
       "      <th>0</th>\n",
       "      <td>versicolor</td>\n",
       "      <td>5.1</td>\n",
       "    </tr>\n",
       "    <tr>\n",
       "      <th>1</th>\n",
       "      <td>versicolor</td>\n",
       "      <td>5.0</td>\n",
       "    </tr>\n",
       "    <tr>\n",
       "      <th>2</th>\n",
       "      <td>versicolor</td>\n",
       "      <td>4.9</td>\n",
       "    </tr>\n",
       "    <tr>\n",
       "      <th>3</th>\n",
       "      <td>versicolor</td>\n",
       "      <td>4.9</td>\n",
       "    </tr>\n",
       "    <tr>\n",
       "      <th>4</th>\n",
       "      <td>versicolor</td>\n",
       "      <td>4.8</td>\n",
       "    </tr>\n",
       "  </tbody>\n",
       "</table>\n",
       "</div>"
      ],
      "text/plain": [
       "      Species  Panjang_Petal\n",
       "0  versicolor            5.1\n",
       "1  versicolor            5.0\n",
       "2  versicolor            4.9\n",
       "3  versicolor            4.9\n",
       "4  versicolor            4.8"
      ]
     },
     "metadata": {},
     "output_type": "display_data"
    },
    {
     "name": "stdout",
     "output_type": "stream",
     "text": [
      "\n",
      "Total baris versicolor: 50\n"
     ]
    }
   ],
   "source": [
    "# Subsetting dan sorting\n",
    "subset_sorted_df = (iris_df\n",
    "                   .query(\"Species == 'versicolor'\")  # Filter\n",
    "                   [['Species', 'Panjang_Petal']]     # Select kolom\n",
    "                   .sort_values('Panjang_Petal', ascending=False)  # Sort descending\n",
    "                   .reset_index(drop=True))  # Reset index\n",
    "\n",
    "# Tampilkan hasil subsetting dan sorting\n",
    "print(\"Hasil subsetting dan sorting (versicolor, diurutkan berdasarkan Panjang_Petal):\")\n",
    "display(subset_sorted_df.head())\n",
    "\n",
    "print(f\"\\nTotal baris versicolor: {len(subset_sorted_df)}\")"
   ]
  },
  {
   "cell_type": "markdown",
   "id": "c835396e",
   "metadata": {},
   "source": [
    "## 9. Menggabungkan Data (Merge/Join)\n",
    "\n",
    "**Tugas:** Membuat tabel baru berisi informasi habitat, lalu menggabungkannya ke data utama."
   ]
  },
  {
   "cell_type": "code",
   "execution_count": 11,
   "id": "6d1a5f9a",
   "metadata": {},
   "outputs": [
    {
     "name": "stdout",
     "output_type": "stream",
     "text": [
      "DataFrame habitat_info:\n",
      "\n"
     ]
    },
    {
     "data": {
      "application/vnd.microsoft.datawrangler.viewer.v0+json": {
       "columns": [
        {
         "name": "index",
         "rawType": "int64",
         "type": "integer"
        },
        {
         "name": "Species",
         "rawType": "object",
         "type": "string"
        },
        {
         "name": "Habitat",
         "rawType": "object",
         "type": "string"
        }
       ],
       "ref": "23608b32-a64c-479c-a1d6-363fcdb43f70",
       "rows": [
        [
         "0",
         "setosa",
         "Sunny Meadow"
        ],
        [
         "1",
         "versicolor",
         "Wetland"
        ],
        [
         "2",
         "virginica",
         "Forest Edge"
        ]
       ],
       "shape": {
        "columns": 2,
        "rows": 3
       }
      },
      "text/html": [
       "<div>\n",
       "<style scoped>\n",
       "    .dataframe tbody tr th:only-of-type {\n",
       "        vertical-align: middle;\n",
       "    }\n",
       "\n",
       "    .dataframe tbody tr th {\n",
       "        vertical-align: top;\n",
       "    }\n",
       "\n",
       "    .dataframe thead th {\n",
       "        text-align: right;\n",
       "    }\n",
       "</style>\n",
       "<table border=\"1\" class=\"dataframe\">\n",
       "  <thead>\n",
       "    <tr style=\"text-align: right;\">\n",
       "      <th></th>\n",
       "      <th>Species</th>\n",
       "      <th>Habitat</th>\n",
       "    </tr>\n",
       "  </thead>\n",
       "  <tbody>\n",
       "    <tr>\n",
       "      <th>0</th>\n",
       "      <td>setosa</td>\n",
       "      <td>Sunny Meadow</td>\n",
       "    </tr>\n",
       "    <tr>\n",
       "      <th>1</th>\n",
       "      <td>versicolor</td>\n",
       "      <td>Wetland</td>\n",
       "    </tr>\n",
       "    <tr>\n",
       "      <th>2</th>\n",
       "      <td>virginica</td>\n",
       "      <td>Forest Edge</td>\n",
       "    </tr>\n",
       "  </tbody>\n",
       "</table>\n",
       "</div>"
      ],
      "text/plain": [
       "      Species       Habitat\n",
       "0      setosa  Sunny Meadow\n",
       "1  versicolor       Wetland\n",
       "2   virginica   Forest Edge"
      ]
     },
     "metadata": {},
     "output_type": "display_data"
    },
    {
     "name": "stdout",
     "output_type": "stream",
     "text": [
      "\n",
      "Contoh hasil setelah join:\n"
     ]
    },
    {
     "data": {
      "application/vnd.microsoft.datawrangler.viewer.v0+json": {
       "columns": [
        {
         "name": "index",
         "rawType": "int64",
         "type": "integer"
        },
        {
         "name": "Species",
         "rawType": "object",
         "type": "string"
        },
        {
         "name": "Habitat",
         "rawType": "object",
         "type": "string"
        },
        {
         "name": "Panjang_Petal",
         "rawType": "float64",
         "type": "float"
        }
       ],
       "ref": "b2fb8c8d-3b22-40ef-84c9-91c7956eef7f",
       "rows": [
        [
         "0",
         "setosa",
         "Sunny Meadow",
         "1.4"
        ],
        [
         "1",
         "setosa",
         "Sunny Meadow",
         "1.4"
        ],
        [
         "2",
         "setosa",
         "Sunny Meadow",
         "1.3"
        ],
        [
         "3",
         "setosa",
         "Sunny Meadow",
         "1.5"
        ],
        [
         "4",
         "setosa",
         "Sunny Meadow",
         "1.4"
        ]
       ],
       "shape": {
        "columns": 3,
        "rows": 5
       }
      },
      "text/html": [
       "<div>\n",
       "<style scoped>\n",
       "    .dataframe tbody tr th:only-of-type {\n",
       "        vertical-align: middle;\n",
       "    }\n",
       "\n",
       "    .dataframe tbody tr th {\n",
       "        vertical-align: top;\n",
       "    }\n",
       "\n",
       "    .dataframe thead th {\n",
       "        text-align: right;\n",
       "    }\n",
       "</style>\n",
       "<table border=\"1\" class=\"dataframe\">\n",
       "  <thead>\n",
       "    <tr style=\"text-align: right;\">\n",
       "      <th></th>\n",
       "      <th>Species</th>\n",
       "      <th>Habitat</th>\n",
       "      <th>Panjang_Petal</th>\n",
       "    </tr>\n",
       "  </thead>\n",
       "  <tbody>\n",
       "    <tr>\n",
       "      <th>0</th>\n",
       "      <td>setosa</td>\n",
       "      <td>Sunny Meadow</td>\n",
       "      <td>1.4</td>\n",
       "    </tr>\n",
       "    <tr>\n",
       "      <th>1</th>\n",
       "      <td>setosa</td>\n",
       "      <td>Sunny Meadow</td>\n",
       "      <td>1.4</td>\n",
       "    </tr>\n",
       "    <tr>\n",
       "      <th>2</th>\n",
       "      <td>setosa</td>\n",
       "      <td>Sunny Meadow</td>\n",
       "      <td>1.3</td>\n",
       "    </tr>\n",
       "    <tr>\n",
       "      <th>3</th>\n",
       "      <td>setosa</td>\n",
       "      <td>Sunny Meadow</td>\n",
       "      <td>1.5</td>\n",
       "    </tr>\n",
       "    <tr>\n",
       "      <th>4</th>\n",
       "      <td>setosa</td>\n",
       "      <td>Sunny Meadow</td>\n",
       "      <td>1.4</td>\n",
       "    </tr>\n",
       "  </tbody>\n",
       "</table>\n",
       "</div>"
      ],
      "text/plain": [
       "  Species       Habitat  Panjang_Petal\n",
       "0  setosa  Sunny Meadow            1.4\n",
       "1  setosa  Sunny Meadow            1.4\n",
       "2  setosa  Sunny Meadow            1.3\n",
       "3  setosa  Sunny Meadow            1.5\n",
       "4  setosa  Sunny Meadow            1.4"
      ]
     },
     "metadata": {},
     "output_type": "display_data"
    },
    {
     "name": "stdout",
     "output_type": "stream",
     "text": [
      "\n",
      "Shape data final: (150, 11)\n",
      "Kolom-kolom dalam data final: ['Panjang_Sepal', 'Lebar_Sepal', 'Panjang_Petal', 'Lebar_Petal', 'Species', 'Petal.Area', 'Panjang_Petal_Str', 'Species_Code', 'Is_Panjang', 'Species_Upper', 'Habitat']\n"
     ]
    }
   ],
   "source": [
    "# Membuat DataFrame baru untuk digabungkan\n",
    "habitat_info = pd.DataFrame({\n",
    "    'Species': ['setosa', 'versicolor', 'virginica'],\n",
    "    'Habitat': ['Sunny Meadow', 'Wetland', 'Forest Edge']\n",
    "})\n",
    "\n",
    "print(\"DataFrame habitat_info:\")\n",
    "display(habitat_info)\n",
    "\n",
    "# Menggabungkan dengan left join\n",
    "iris_final_df = iris_df.merge(habitat_info, on='Species', how='left')\n",
    "\n",
    "# Tampilkan contoh hasil akhir dengan kolom Habitat yang baru\n",
    "print(\"\\nContoh hasil setelah join:\")\n",
    "display(iris_final_df[['Species', 'Habitat', 'Panjang_Petal']].head())\n",
    "\n",
    "print(f\"\\nShape data final: {iris_final_df.shape}\")\n",
    "print(f\"Kolom-kolom dalam data final: {list(iris_final_df.columns)}\")"
   ]
  },
  {
   "cell_type": "markdown",
   "id": "5aa3f9da",
   "metadata": {},
   "source": [
    "## 10. Ekspor Data ke CSV\n",
    "\n",
    "**Tugas:** Menyimpan dataframe final (iris_final_df) ke dalam sebuah file CSV yang universal. CSV (Comma-Separated Values) adalah format teks sederhana yang bisa dibuka oleh hampir semua software analisis data."
   ]
  },
  {
   "cell_type": "code",
   "execution_count": 12,
   "id": "b2727e20",
   "metadata": {},
   "outputs": [
    {
     "name": "stdout",
     "output_type": "stream",
     "text": [
      "File iris_data_final.csv berhasil dibuat.\n",
      "File disimpan di direktori kerja: 150 baris, 11 kolom\n",
      "\n",
      "Verifikasi - 3 baris pertama dari file CSV:\n",
      "\n",
      "File disimpan di direktori kerja: 150 baris, 11 kolom\n",
      "\n",
      "Verifikasi - 3 baris pertama dari file CSV:\n"
     ]
    },
    {
     "data": {
      "application/vnd.microsoft.datawrangler.viewer.v0+json": {
       "columns": [
        {
         "name": "index",
         "rawType": "int64",
         "type": "integer"
        },
        {
         "name": "Panjang_Sepal",
         "rawType": "float64",
         "type": "float"
        },
        {
         "name": "Lebar_Sepal",
         "rawType": "float64",
         "type": "float"
        },
        {
         "name": "Panjang_Petal",
         "rawType": "float64",
         "type": "float"
        },
        {
         "name": "Lebar_Petal",
         "rawType": "float64",
         "type": "float"
        },
        {
         "name": "Species",
         "rawType": "object",
         "type": "string"
        },
        {
         "name": "Petal.Area",
         "rawType": "float64",
         "type": "float"
        },
        {
         "name": "Panjang_Petal_Str",
         "rawType": "float64",
         "type": "float"
        },
        {
         "name": "Species_Code",
         "rawType": "object",
         "type": "string"
        },
        {
         "name": "Is_Panjang",
         "rawType": "bool",
         "type": "boolean"
        },
        {
         "name": "Species_Upper",
         "rawType": "object",
         "type": "string"
        },
        {
         "name": "Habitat",
         "rawType": "object",
         "type": "string"
        }
       ],
       "ref": "274e3dab-0959-475f-8cbf-7f991fcb1972",
       "rows": [
        [
         "0",
         "5.1",
         "3.5",
         "1.4",
         "0.2",
         "setosa",
         "0.2799999999999999",
         "1.4",
         "S",
         "False",
         "SETOSA",
         "Sunny Meadow"
        ],
        [
         "1",
         "4.9",
         "3.0",
         "1.4",
         "0.2",
         "setosa",
         "0.2799999999999999",
         "1.4",
         "S",
         "False",
         "SETOSA",
         "Sunny Meadow"
        ],
        [
         "2",
         "4.7",
         "3.2",
         "1.3",
         "0.2",
         "setosa",
         "0.26",
         "1.3",
         "S",
         "False",
         "SETOSA",
         "Sunny Meadow"
        ]
       ],
       "shape": {
        "columns": 11,
        "rows": 3
       }
      },
      "text/html": [
       "<div>\n",
       "<style scoped>\n",
       "    .dataframe tbody tr th:only-of-type {\n",
       "        vertical-align: middle;\n",
       "    }\n",
       "\n",
       "    .dataframe tbody tr th {\n",
       "        vertical-align: top;\n",
       "    }\n",
       "\n",
       "    .dataframe thead th {\n",
       "        text-align: right;\n",
       "    }\n",
       "</style>\n",
       "<table border=\"1\" class=\"dataframe\">\n",
       "  <thead>\n",
       "    <tr style=\"text-align: right;\">\n",
       "      <th></th>\n",
       "      <th>Panjang_Sepal</th>\n",
       "      <th>Lebar_Sepal</th>\n",
       "      <th>Panjang_Petal</th>\n",
       "      <th>Lebar_Petal</th>\n",
       "      <th>Species</th>\n",
       "      <th>Petal.Area</th>\n",
       "      <th>Panjang_Petal_Str</th>\n",
       "      <th>Species_Code</th>\n",
       "      <th>Is_Panjang</th>\n",
       "      <th>Species_Upper</th>\n",
       "      <th>Habitat</th>\n",
       "    </tr>\n",
       "  </thead>\n",
       "  <tbody>\n",
       "    <tr>\n",
       "      <th>0</th>\n",
       "      <td>5.1</td>\n",
       "      <td>3.5</td>\n",
       "      <td>1.4</td>\n",
       "      <td>0.2</td>\n",
       "      <td>setosa</td>\n",
       "      <td>0.28</td>\n",
       "      <td>1.4</td>\n",
       "      <td>S</td>\n",
       "      <td>False</td>\n",
       "      <td>SETOSA</td>\n",
       "      <td>Sunny Meadow</td>\n",
       "    </tr>\n",
       "    <tr>\n",
       "      <th>1</th>\n",
       "      <td>4.9</td>\n",
       "      <td>3.0</td>\n",
       "      <td>1.4</td>\n",
       "      <td>0.2</td>\n",
       "      <td>setosa</td>\n",
       "      <td>0.28</td>\n",
       "      <td>1.4</td>\n",
       "      <td>S</td>\n",
       "      <td>False</td>\n",
       "      <td>SETOSA</td>\n",
       "      <td>Sunny Meadow</td>\n",
       "    </tr>\n",
       "    <tr>\n",
       "      <th>2</th>\n",
       "      <td>4.7</td>\n",
       "      <td>3.2</td>\n",
       "      <td>1.3</td>\n",
       "      <td>0.2</td>\n",
       "      <td>setosa</td>\n",
       "      <td>0.26</td>\n",
       "      <td>1.3</td>\n",
       "      <td>S</td>\n",
       "      <td>False</td>\n",
       "      <td>SETOSA</td>\n",
       "      <td>Sunny Meadow</td>\n",
       "    </tr>\n",
       "  </tbody>\n",
       "</table>\n",
       "</div>"
      ],
      "text/plain": [
       "   Panjang_Sepal  Lebar_Sepal  Panjang_Petal  Lebar_Petal Species  Petal.Area  \\\n",
       "0            5.1          3.5            1.4          0.2  setosa        0.28   \n",
       "1            4.9          3.0            1.4          0.2  setosa        0.28   \n",
       "2            4.7          3.2            1.3          0.2  setosa        0.26   \n",
       "\n",
       "   Panjang_Petal_Str Species_Code  Is_Panjang Species_Upper       Habitat  \n",
       "0                1.4            S       False        SETOSA  Sunny Meadow  \n",
       "1                1.4            S       False        SETOSA  Sunny Meadow  \n",
       "2                1.3            S       False        SETOSA  Sunny Meadow  "
      ]
     },
     "metadata": {},
     "output_type": "display_data"
    }
   ],
   "source": [
    "# Ekspor ke CSV\n",
    "iris_final_df.to_csv('iris_data_final.csv', index=False)\n",
    "\n",
    "print(\"File iris_data_final.csv berhasil dibuat.\")\n",
    "print(f\"File disimpan di direktori kerja: {iris_final_df.shape[0]} baris, {iris_final_df.shape[1]} kolom\")\n",
    "\n",
    "# Verifikasi dengan membaca kembali beberapa baris\n",
    "print(\"\\nVerifikasi - 3 baris pertama dari file CSV:\")\n",
    "verification_df = pd.read_csv('iris_data_final.csv')\n",
    "display(verification_df.head(3))"
   ]
  },
  {
   "cell_type": "markdown",
   "id": "764ab78d",
   "metadata": {},
   "source": [
    "## 11. Ekspor Data ke Excel\n",
    "\n",
    "**Tugas:** Menyimpan dataframe final ke dalam format file Excel (.xlsx), yang sangat umum digunakan di lingkungan bisnis. Untuk melakukan ini, kita memerlukan library openpyxl atau xlsxwriter."
   ]
  },
  {
   "cell_type": "code",
   "execution_count": 13,
   "id": "8afb9ae0",
   "metadata": {},
   "outputs": [
    {
     "name": "stdout",
     "output_type": "stream",
     "text": [
      "openpyxl sudah terinstall\n",
      "File iris_data_final.xlsx berhasil dibuat.\n",
      "File Excel disimpan dengan sheet 'Iris_Data': 150 baris, 11 kolom\n",
      "\n",
      "Verifikasi - 3 baris pertama dari file Excel:\n",
      "File iris_data_final.xlsx berhasil dibuat.\n",
      "File Excel disimpan dengan sheet 'Iris_Data': 150 baris, 11 kolom\n",
      "\n",
      "Verifikasi - 3 baris pertama dari file Excel:\n"
     ]
    },
    {
     "data": {
      "application/vnd.microsoft.datawrangler.viewer.v0+json": {
       "columns": [
        {
         "name": "index",
         "rawType": "int64",
         "type": "integer"
        },
        {
         "name": "Panjang_Sepal",
         "rawType": "float64",
         "type": "float"
        },
        {
         "name": "Lebar_Sepal",
         "rawType": "float64",
         "type": "float"
        },
        {
         "name": "Panjang_Petal",
         "rawType": "float64",
         "type": "float"
        },
        {
         "name": "Lebar_Petal",
         "rawType": "float64",
         "type": "float"
        },
        {
         "name": "Species",
         "rawType": "object",
         "type": "string"
        },
        {
         "name": "Petal.Area",
         "rawType": "float64",
         "type": "float"
        },
        {
         "name": "Panjang_Petal_Str",
         "rawType": "float64",
         "type": "float"
        },
        {
         "name": "Species_Code",
         "rawType": "object",
         "type": "string"
        },
        {
         "name": "Is_Panjang",
         "rawType": "bool",
         "type": "boolean"
        },
        {
         "name": "Species_Upper",
         "rawType": "object",
         "type": "string"
        },
        {
         "name": "Habitat",
         "rawType": "object",
         "type": "string"
        }
       ],
       "ref": "c731fe84-2116-4833-b796-5d9ceda0ac48",
       "rows": [
        [
         "0",
         "5.1",
         "3.5",
         "1.4",
         "0.2",
         "setosa",
         "0.28",
         "1.4",
         "S",
         "False",
         "SETOSA",
         "Sunny Meadow"
        ],
        [
         "1",
         "4.9",
         "3.0",
         "1.4",
         "0.2",
         "setosa",
         "0.28",
         "1.4",
         "S",
         "False",
         "SETOSA",
         "Sunny Meadow"
        ],
        [
         "2",
         "4.7",
         "3.2",
         "1.3",
         "0.2",
         "setosa",
         "0.26",
         "1.3",
         "S",
         "False",
         "SETOSA",
         "Sunny Meadow"
        ]
       ],
       "shape": {
        "columns": 11,
        "rows": 3
       }
      },
      "text/html": [
       "<div>\n",
       "<style scoped>\n",
       "    .dataframe tbody tr th:only-of-type {\n",
       "        vertical-align: middle;\n",
       "    }\n",
       "\n",
       "    .dataframe tbody tr th {\n",
       "        vertical-align: top;\n",
       "    }\n",
       "\n",
       "    .dataframe thead th {\n",
       "        text-align: right;\n",
       "    }\n",
       "</style>\n",
       "<table border=\"1\" class=\"dataframe\">\n",
       "  <thead>\n",
       "    <tr style=\"text-align: right;\">\n",
       "      <th></th>\n",
       "      <th>Panjang_Sepal</th>\n",
       "      <th>Lebar_Sepal</th>\n",
       "      <th>Panjang_Petal</th>\n",
       "      <th>Lebar_Petal</th>\n",
       "      <th>Species</th>\n",
       "      <th>Petal.Area</th>\n",
       "      <th>Panjang_Petal_Str</th>\n",
       "      <th>Species_Code</th>\n",
       "      <th>Is_Panjang</th>\n",
       "      <th>Species_Upper</th>\n",
       "      <th>Habitat</th>\n",
       "    </tr>\n",
       "  </thead>\n",
       "  <tbody>\n",
       "    <tr>\n",
       "      <th>0</th>\n",
       "      <td>5.1</td>\n",
       "      <td>3.5</td>\n",
       "      <td>1.4</td>\n",
       "      <td>0.2</td>\n",
       "      <td>setosa</td>\n",
       "      <td>0.28</td>\n",
       "      <td>1.4</td>\n",
       "      <td>S</td>\n",
       "      <td>False</td>\n",
       "      <td>SETOSA</td>\n",
       "      <td>Sunny Meadow</td>\n",
       "    </tr>\n",
       "    <tr>\n",
       "      <th>1</th>\n",
       "      <td>4.9</td>\n",
       "      <td>3.0</td>\n",
       "      <td>1.4</td>\n",
       "      <td>0.2</td>\n",
       "      <td>setosa</td>\n",
       "      <td>0.28</td>\n",
       "      <td>1.4</td>\n",
       "      <td>S</td>\n",
       "      <td>False</td>\n",
       "      <td>SETOSA</td>\n",
       "      <td>Sunny Meadow</td>\n",
       "    </tr>\n",
       "    <tr>\n",
       "      <th>2</th>\n",
       "      <td>4.7</td>\n",
       "      <td>3.2</td>\n",
       "      <td>1.3</td>\n",
       "      <td>0.2</td>\n",
       "      <td>setosa</td>\n",
       "      <td>0.26</td>\n",
       "      <td>1.3</td>\n",
       "      <td>S</td>\n",
       "      <td>False</td>\n",
       "      <td>SETOSA</td>\n",
       "      <td>Sunny Meadow</td>\n",
       "    </tr>\n",
       "  </tbody>\n",
       "</table>\n",
       "</div>"
      ],
      "text/plain": [
       "   Panjang_Sepal  Lebar_Sepal  Panjang_Petal  Lebar_Petal Species  Petal.Area  \\\n",
       "0            5.1          3.5            1.4          0.2  setosa        0.28   \n",
       "1            4.9          3.0            1.4          0.2  setosa        0.28   \n",
       "2            4.7          3.2            1.3          0.2  setosa        0.26   \n",
       "\n",
       "   Panjang_Petal_Str Species_Code  Is_Panjang Species_Upper       Habitat  \n",
       "0                1.4            S       False        SETOSA  Sunny Meadow  \n",
       "1                1.4            S       False        SETOSA  Sunny Meadow  \n",
       "2                1.3            S       False        SETOSA  Sunny Meadow  "
      ]
     },
     "metadata": {},
     "output_type": "display_data"
    }
   ],
   "source": [
    "# Install openpyxl jika belum terinstall\n",
    "try:\n",
    "    import openpyxl\n",
    "    print(\"openpyxl sudah terinstall\")\n",
    "except ImportError:\n",
    "    import subprocess\n",
    "    import sys\n",
    "    print(\"Installing openpyxl...\")\n",
    "    subprocess.check_call([sys.executable, \"-m\", \"pip\", \"install\", \"openpyxl\"])\n",
    "    print(\"openpyxl berhasil diinstall\")\n",
    "\n",
    "# Ekspor ke Excel\n",
    "iris_final_df.to_excel('iris_data_final.xlsx', index=False, sheet_name='Iris_Data')\n",
    "\n",
    "print(\"File iris_data_final.xlsx berhasil dibuat.\")\n",
    "print(f\"File Excel disimpan dengan sheet 'Iris_Data': {iris_final_df.shape[0]} baris, {iris_final_df.shape[1]} kolom\")\n",
    "\n",
    "# Verifikasi dengan membaca kembali beberapa baris\n",
    "print(\"\\nVerifikasi - 3 baris pertama dari file Excel:\")\n",
    "verification_xlsx = pd.read_excel('iris_data_final.xlsx')\n",
    "display(verification_xlsx.head(3))"
   ]
  }
 ],
 "metadata": {
  "kernelspec": {
   "display_name": "Python 3",
   "language": "python",
   "name": "python3"
  },
  "language_info": {
   "codemirror_mode": {
    "name": "ipython",
    "version": 3
   },
   "file_extension": ".py",
   "mimetype": "text/x-python",
   "name": "python",
   "nbconvert_exporter": "python",
   "pygments_lexer": "ipython3",
   "version": "3.13.7"
  }
 },
 "nbformat": 4,
 "nbformat_minor": 5
}
